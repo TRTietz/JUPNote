{
 "cells": [
  {
   "cell_type": "markdown",
   "id": "051da1b3-6c4a-4e6f-a4a0-433ab0f083f0",
   "metadata": {},
   "source": [
    "## Data Science Tools and Ecosystem"
   ]
  },
  {
   "cell_type": "markdown",
   "id": "0de02655-ecc3-460d-abe7-7201e1054312",
   "metadata": {},
   "source": [
    "###### In this notebook, Data Science Tools and Ecosystem are summarized"
   ]
  },
  {
   "cell_type": "markdown",
   "id": "e0200e56-7cca-446a-bab0-5429933a2ecb",
   "metadata": {},
   "source": [
    "###### Objectives:\n",
    "- List popular languages for Data Science\n",
    "- List commonly used libraries used by Data Scientists\n",
    "- List Popular Data Science Libraries\n",
    "- Evaluate evaluating arithmetic expressions in Python"
   ]
  },
  {
   "cell_type": "markdown",
   "id": "2deab6eb-e730-40f0-a765-7cca8e8494fd",
   "metadata": {},
   "source": [
    "###### Some of the popular languages that Data Scientists use are:"
   ]
  },
  {
   "cell_type": "code",
   "execution_count": 13,
   "id": "9e850007-1562-4425-bcf9-63db33a6f2a8",
   "metadata": {},
   "outputs": [
    {
     "name": "stdout",
     "output_type": "stream",
     "text": [
      "Popular Data Science Languages:\n",
      "1. Python\n",
      "2. R\n",
      "3. SQL\n",
      "4. Julia\n",
      "5. MATLAB\n"
     ]
    }
   ],
   "source": [
    "data_science_languages = [\n",
    "    \"Python\",\n",
    "    \"R\",\n",
    "    \"SQL\",\n",
    "    \"Julia\",\n",
    "    \"MATLAB\"\n",
    "]\n",
    "\n",
    "    # Print the list\n",
    "print(\"Popular Data Science Languages:\")\n",
    "for i, language in enumerate(data_science_languages, 1):\n",
    "    print(f\"{i}. {language}\")"
   ]
  },
  {
   "cell_type": "markdown",
   "id": "632c015c-22ab-4f5a-9a87-d7595e8e0b2f",
   "metadata": {},
   "source": [
    "###### Some of the commonly used libraries used by Data Scientists include:"
   ]
  },
  {
   "cell_type": "code",
   "execution_count": 16,
   "id": "fd95fec4-6162-4846-959d-74ed2c8ac568",
   "metadata": {},
   "outputs": [
    {
     "name": "stdout",
     "output_type": "stream",
     "text": [
      "Popular Data Science Libraries:\n",
      "1. Numpy\n",
      "2. Pandas\n",
      "3. Matplotlib\n",
      "4. Scikit-learn\n",
      "5. Seaborn\n"
     ]
    }
   ],
   "source": [
    "data_science_libraries = [\n",
    "    \"Numpy\",\n",
    "    \"Pandas\",\n",
    "    \"Matplotlib\",\n",
    "    \"Scikit-learn\",\n",
    "    \"Seaborn\"\n",
    "]\n",
    "\n",
    "    # Print the list\n",
    "print(\"Popular Data Science Libraries:\")\n",
    "for i, library in enumerate(data_science_libraries, 1):\n",
    "    print(f\"{i}. {library}\")"
   ]
  },
  {
   "cell_type": "code",
   "execution_count": 28,
   "id": "2ba02a41-8aa7-4efc-9eeb-5c4e881e63c9",
   "metadata": {},
   "outputs": [
    {
     "name": "stdout",
     "output_type": "stream",
     "text": [
      "Requirement already satisfied: pandas in c:\\users\\tatia\\anaconda3\\lib\\site-packages (2.2.2)\n",
      "Requirement already satisfied: numpy>=1.26.0 in c:\\users\\tatia\\anaconda3\\lib\\site-packages (from pandas) (1.26.4)\n",
      "Requirement already satisfied: python-dateutil>=2.8.2 in c:\\users\\tatia\\anaconda3\\lib\\site-packages (from pandas) (2.9.0.post0)\n",
      "Requirement already satisfied: pytz>=2020.1 in c:\\users\\tatia\\anaconda3\\lib\\site-packages (from pandas) (2024.1)\n",
      "Requirement already satisfied: tzdata>=2022.7 in c:\\users\\tatia\\anaconda3\\lib\\site-packages (from pandas) (2023.3)\n",
      "Requirement already satisfied: six>=1.5 in c:\\users\\tatia\\anaconda3\\lib\\site-packages (from python-dateutil>=2.8.2->pandas) (1.16.0)\n",
      "Note: you may need to restart the kernel to use updated packages.\n"
     ]
    }
   ],
   "source": [
    "pip install pandas"
   ]
  },
  {
   "cell_type": "code",
   "execution_count": 30,
   "id": "1c29a787-30cb-4ae9-bd28-895fdf413cc2",
   "metadata": {},
   "outputs": [
    {
     "data": {
      "text/html": [
       "<div>\n",
       "<style scoped>\n",
       "    .dataframe tbody tr th:only-of-type {\n",
       "        vertical-align: middle;\n",
       "    }\n",
       "\n",
       "    .dataframe tbody tr th {\n",
       "        vertical-align: top;\n",
       "    }\n",
       "\n",
       "    .dataframe thead th {\n",
       "        text-align: right;\n",
       "    }\n",
       "</style>\n",
       "<table border=\"1\" class=\"dataframe\">\n",
       "  <thead>\n",
       "    <tr style=\"text-align: right;\">\n",
       "      <th></th>\n",
       "      <th>Data Science Tools</th>\n",
       "    </tr>\n",
       "  </thead>\n",
       "  <tbody>\n",
       "    <tr>\n",
       "      <th>0</th>\n",
       "      <td>Jupyter Notebook</td>\n",
       "    </tr>\n",
       "    <tr>\n",
       "      <th>1</th>\n",
       "      <td>RStudio</td>\n",
       "    </tr>\n",
       "    <tr>\n",
       "      <th>2</th>\n",
       "      <td>VS Code</td>\n",
       "    </tr>\n",
       "  </tbody>\n",
       "</table>\n",
       "</div>"
      ],
      "text/plain": [
       "  Data Science Tools\n",
       "0   Jupyter Notebook\n",
       "1            RStudio\n",
       "2            VS Code"
      ]
     },
     "execution_count": 30,
     "metadata": {},
     "output_type": "execute_result"
    }
   ],
   "source": [
    "# Import Pandas library\n",
    "import pandas as pd\n",
    "\n",
    "# Create a single-column DataFrame\n",
    "data = {'Data Science Tools': ['Jupyter Notebook', 'RStudio', 'VS Code']}\n",
    "df = pd.DataFrame(data)\n",
    "\n",
    "# Display the table\n",
    "df"
   ]
  },
  {
   "cell_type": "markdown",
   "id": "a9e433b6-4868-45e7-8f71-f32703f1de69",
   "metadata": {},
   "source": [
    "### Below are a few examples of evaluating arithmetic expressions in Python."
   ]
  },
  {
   "cell_type": "code",
   "execution_count": 35,
   "id": "c9764d1d-19e7-4b89-949d-211d7c90a5f2",
   "metadata": {},
   "outputs": [
    {
     "name": "stdout",
     "output_type": "stream",
     "text": [
      "17\n"
     ]
    }
   ],
   "source": [
    "result=((3*4)+5)\n",
    "print(result)"
   ]
  },
  {
   "cell_type": "markdown",
   "id": "44b7d3bd-e0b2-4bd1-8363-0aec50fda3da",
   "metadata": {},
   "source": [
    "###### This will convert 200 minutes to hours by diving by 60"
   ]
  },
  {
   "cell_type": "code",
   "execution_count": 39,
   "id": "a5bf9b68-1153-41d2-8b53-fc3562b30f56",
   "metadata": {},
   "outputs": [
    {
     "name": "stdout",
     "output_type": "stream",
     "text": [
      "200 minutes is equal to 3.33 hours\n"
     ]
    }
   ],
   "source": [
    "# conversion factors\n",
    "x = 200  # minutes\n",
    "k = 1 / 60  # conversion factor: 1 hour = 60 minutes\n",
    "\n",
    "# Calculating hours\n",
    "y = x * k  \n",
    "\n",
    "# Display the result\n",
    "print(f\"{x} minutes is equal to {y:.2f} hours\")\n"
   ]
  },
  {
   "cell_type": "markdown",
   "id": "f33599e4-7c99-42e7-89e9-a1ebe0fc1280",
   "metadata": {},
   "source": [
    "## Author\n",
    "Tatiana"
   ]
  }
 ],
 "metadata": {
  "kernelspec": {
   "display_name": "Python 3 (ipykernel)",
   "language": "python",
   "name": "python3"
  },
  "language_info": {
   "codemirror_mode": {
    "name": "ipython",
    "version": 3
   },
   "file_extension": ".py",
   "mimetype": "text/x-python",
   "name": "python",
   "nbconvert_exporter": "python",
   "pygments_lexer": "ipython3",
   "version": "3.12.7"
  }
 },
 "nbformat": 4,
 "nbformat_minor": 5
}
